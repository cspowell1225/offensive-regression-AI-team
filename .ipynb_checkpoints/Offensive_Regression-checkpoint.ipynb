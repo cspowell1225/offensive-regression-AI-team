{
 "cells": [
  {
   "cell_type": "markdown",
   "metadata": {
    "colab_type": "text",
    "id": "_pkz0heufohF"
   },
   "source": [
    "# Import and Data Retrieval"
   ]
  },
  {
   "cell_type": "code",
   "execution_count": 1,
   "metadata": {
    "colab": {
     "base_uri": "https://localhost:8080/",
     "height": 50
    },
    "colab_type": "code",
    "id": "2apqh4t79Bwy",
    "outputId": "52f04854-a442-4d67-d883-6e450d9369aa"
   },
   "outputs": [
    {
     "name": "stdout",
     "output_type": "stream",
     "text": [
      "Wall time: 9.84 s\n"
     ]
    }
   ],
   "source": [
    "%%time\n",
    "from sklearn.model_selection import train_test_split\n",
    "import pandas as pd\n",
    "import matplotlib\n",
    "import numpy as np\n",
    "import seaborn as sns\n",
    "import statsmodels.formula.api as smf\n",
    "import statsmodels.api as sm\n",
    "import matplotlib.pyplot as plt\n"
   ]
  },
  {
   "cell_type": "code",
   "execution_count": 2,
   "metadata": {
    "colab": {},
    "colab_type": "code",
    "id": "G7XYO2qY9LL5"
   },
   "outputs": [],
   "source": [
    "#read data in from CSV to pandas dataframe\n",
    "data = pd.read_csv('College Football Offensive Stats - Data.csv')"
   ]
  },
  {
   "cell_type": "code",
   "execution_count": 3,
   "metadata": {
    "colab": {
     "base_uri": "https://localhost:8080/",
     "height": 114
    },
    "colab_type": "code",
    "id": "CnMSVvK_9VNG",
    "outputId": "e9cd2fbc-0685-48ee-96e8-5e4bb4dd5a21"
   },
   "outputs": [
    {
     "data": {
      "text/html": [
       "<div>\n",
       "<style scoped>\n",
       "    .dataframe tbody tr th:only-of-type {\n",
       "        vertical-align: middle;\n",
       "    }\n",
       "\n",
       "    .dataframe tbody tr th {\n",
       "        vertical-align: top;\n",
       "    }\n",
       "\n",
       "    .dataframe thead th {\n",
       "        text-align: right;\n",
       "    }\n",
       "</style>\n",
       "<table border=\"1\" class=\"dataframe\">\n",
       "  <thead>\n",
       "    <tr style=\"text-align: right;\">\n",
       "      <th></th>\n",
       "      <th>Rk</th>\n",
       "      <th>School</th>\n",
       "      <th>G</th>\n",
       "      <th>Pts</th>\n",
       "      <th>PassingCmp</th>\n",
       "      <th>PassingAtt</th>\n",
       "      <th>PassingPct</th>\n",
       "      <th>PassingYds</th>\n",
       "      <th>PassingTD</th>\n",
       "      <th>RushingAtt</th>\n",
       "      <th>...</th>\n",
       "      <th>TotalOffenseAvg</th>\n",
       "      <th>FirstDownsPass</th>\n",
       "      <th>FirstDownsRush</th>\n",
       "      <th>FirstDownsPen</th>\n",
       "      <th>FirstDownsTot</th>\n",
       "      <th>PenaltiesNo</th>\n",
       "      <th>PenaltiesYds</th>\n",
       "      <th>TurnoversFum</th>\n",
       "      <th>TurnoversInt</th>\n",
       "      <th>TurnoversTot</th>\n",
       "    </tr>\n",
       "  </thead>\n",
       "  <tbody>\n",
       "    <tr>\n",
       "      <td>0</td>\n",
       "      <td>1</td>\n",
       "      <td>Ohio State</td>\n",
       "      <td>11</td>\n",
       "      <td>49.4</td>\n",
       "      <td>18.7</td>\n",
       "      <td>27.3</td>\n",
       "      <td>68.7</td>\n",
       "      <td>248.3</td>\n",
       "      <td>3.6</td>\n",
       "      <td>47.7</td>\n",
       "      <td>...</td>\n",
       "      <td>7.1</td>\n",
       "      <td>11.6</td>\n",
       "      <td>14.6</td>\n",
       "      <td>2.2</td>\n",
       "      <td>28.5</td>\n",
       "      <td>5.6</td>\n",
       "      <td>53.4</td>\n",
       "      <td>1.0</td>\n",
       "      <td>0.1</td>\n",
       "      <td>1.1</td>\n",
       "    </tr>\n",
       "  </tbody>\n",
       "</table>\n",
       "<p>1 rows × 25 columns</p>\n",
       "</div>"
      ],
      "text/plain": [
       "   Rk      School   G   Pts  PassingCmp  PassingAtt  PassingPct  PassingYds  \\\n",
       "0   1  Ohio State  11  49.4        18.7        27.3        68.7       248.3   \n",
       "\n",
       "   PassingTD  RushingAtt  ...  TotalOffenseAvg  FirstDownsPass  \\\n",
       "0        3.6        47.7  ...              7.1            11.6   \n",
       "\n",
       "   FirstDownsRush  FirstDownsPen  FirstDownsTot  PenaltiesNo  PenaltiesYds  \\\n",
       "0            14.6            2.2           28.5          5.6          53.4   \n",
       "\n",
       "   TurnoversFum  TurnoversInt  TurnoversTot  \n",
       "0           1.0           0.1           1.1  \n",
       "\n",
       "[1 rows x 25 columns]"
      ]
     },
     "execution_count": 3,
     "metadata": {},
     "output_type": "execute_result"
    }
   ],
   "source": [
    "# Check the first row in the dataframe is as expected\n",
    "data.head(1)"
   ]
  },
  {
   "cell_type": "markdown",
   "metadata": {
    "colab_type": "text",
    "id": "F03zu4Lh-dvF"
   },
   "source": [
    "#Single Feature Linear Model\n",
    "Goal: Predict points scored on other features\n"
   ]
  },
  {
   "cell_type": "code",
   "execution_count": 4,
   "metadata": {
    "colab": {},
    "colab_type": "code",
    "id": "9pSsYc89-sY7"
   },
   "outputs": [],
   "source": [
    "# sns.pairplot(data)"
   ]
  },
  {
   "cell_type": "code",
   "execution_count": 6,
   "metadata": {
    "colab": {},
    "colab_type": "code",
    "id": "MMf_YbK1_wa6"
   },
   "outputs": [],
   "source": [
    "copy = data.copy()\n",
    "copy = copy.drop(['Rk', 'School', 'G'], axis=1)"
   ]
  },
  {
   "cell_type": "code",
   "execution_count": 8,
   "metadata": {
    "colab": {},
    "colab_type": "code",
    "id": "S90wHt2fCDlJ"
   },
   "outputs": [],
   "source": [
    "\n",
    "train, test = train_test_split(copy, test_size=0.2)"
   ]
  },
  {
   "cell_type": "code",
   "execution_count": 15,
   "metadata": {
    "colab": {
     "base_uri": "https://localhost:8080/",
     "height": 775
    },
    "colab_type": "code",
    "id": "cQ5RaNUCClf3",
    "outputId": "d17513c8-f57f-4e08-d4c3-c5867cbf423f",
    "scrolled": true
   },
   "outputs": [
    {
     "name": "stdout",
     "output_type": "stream",
     "text": [
      "best feature: TotalOffenseYds\n",
      "R-squared for model with 1 feature1:  0.83943871016178\n",
      "formula_string=  Pts~TotalOffenseYds\n"
     ]
    },
    {
     "data": {
      "text/html": [
       "<table class=\"simpletable\">\n",
       "<caption>OLS Regression Results</caption>\n",
       "<tr>\n",
       "  <th>Dep. Variable:</th>           <td>Pts</td>       <th>  R-squared:         </th> <td>   0.841</td>\n",
       "</tr>\n",
       "<tr>\n",
       "  <th>Model:</th>                   <td>OLS</td>       <th>  Adj. R-squared:    </th> <td>   0.839</td>\n",
       "</tr>\n",
       "<tr>\n",
       "  <th>Method:</th>             <td>Least Squares</td>  <th>  F-statistic:       </th> <td>   539.5</td>\n",
       "</tr>\n",
       "<tr>\n",
       "  <th>Date:</th>             <td>Thu, 05 Dec 2019</td> <th>  Prob (F-statistic):</th> <td>1.60e-42</td>\n",
       "</tr>\n",
       "<tr>\n",
       "  <th>Time:</th>                 <td>11:10:47</td>     <th>  Log-Likelihood:    </th> <td> -258.72</td>\n",
       "</tr>\n",
       "<tr>\n",
       "  <th>No. Observations:</th>      <td>   104</td>      <th>  AIC:               </th> <td>   521.4</td>\n",
       "</tr>\n",
       "<tr>\n",
       "  <th>Df Residuals:</th>          <td>   102</td>      <th>  BIC:               </th> <td>   526.7</td>\n",
       "</tr>\n",
       "<tr>\n",
       "  <th>Df Model:</th>              <td>     1</td>      <th>                     </th>     <td> </td>   \n",
       "</tr>\n",
       "<tr>\n",
       "  <th>Covariance Type:</th>      <td>nonrobust</td>    <th>                     </th>     <td> </td>   \n",
       "</tr>\n",
       "</table>\n",
       "<table class=\"simpletable\">\n",
       "<tr>\n",
       "         <td></td>            <th>coef</th>     <th>std err</th>      <th>t</th>      <th>P>|t|</th>  <th>[0.025</th>    <th>0.975]</th>  \n",
       "</tr>\n",
       "<tr>\n",
       "  <th>Intercept</th>       <td>  -14.9292</td> <td>    1.924</td> <td>   -7.759</td> <td> 0.000</td> <td>  -18.746</td> <td>  -11.113</td>\n",
       "</tr>\n",
       "<tr>\n",
       "  <th>TotalOffenseYds</th> <td>    0.1092</td> <td>    0.005</td> <td>   23.227</td> <td> 0.000</td> <td>    0.100</td> <td>    0.119</td>\n",
       "</tr>\n",
       "</table>\n",
       "<table class=\"simpletable\">\n",
       "<tr>\n",
       "  <th>Omnibus:</th>       <td> 4.603</td> <th>  Durbin-Watson:     </th> <td>   1.898</td>\n",
       "</tr>\n",
       "<tr>\n",
       "  <th>Prob(Omnibus):</th> <td> 0.100</td> <th>  Jarque-Bera (JB):  </th> <td>   4.529</td>\n",
       "</tr>\n",
       "<tr>\n",
       "  <th>Skew:</th>          <td> 0.508</td> <th>  Prob(JB):          </th> <td>   0.104</td>\n",
       "</tr>\n",
       "<tr>\n",
       "  <th>Kurtosis:</th>      <td> 2.895</td> <th>  Cond. No.          </th> <td>2.73e+03</td>\n",
       "</tr>\n",
       "</table><br/><br/>Warnings:<br/>[1] Standard Errors assume that the covariance matrix of the errors is correctly specified.<br/>[2] The condition number is large, 2.73e+03. This might indicate that there are<br/>strong multicollinearity or other numerical problems."
      ],
      "text/plain": [
       "<class 'statsmodels.iolib.summary.Summary'>\n",
       "\"\"\"\n",
       "                            OLS Regression Results                            \n",
       "==============================================================================\n",
       "Dep. Variable:                    Pts   R-squared:                       0.841\n",
       "Model:                            OLS   Adj. R-squared:                  0.839\n",
       "Method:                 Least Squares   F-statistic:                     539.5\n",
       "Date:                Thu, 05 Dec 2019   Prob (F-statistic):           1.60e-42\n",
       "Time:                        11:10:47   Log-Likelihood:                -258.72\n",
       "No. Observations:                 104   AIC:                             521.4\n",
       "Df Residuals:                     102   BIC:                             526.7\n",
       "Df Model:                           1                                         \n",
       "Covariance Type:            nonrobust                                         \n",
       "===================================================================================\n",
       "                      coef    std err          t      P>|t|      [0.025      0.975]\n",
       "-----------------------------------------------------------------------------------\n",
       "Intercept         -14.9292      1.924     -7.759      0.000     -18.746     -11.113\n",
       "TotalOffenseYds     0.1092      0.005     23.227      0.000       0.100       0.119\n",
       "==============================================================================\n",
       "Omnibus:                        4.603   Durbin-Watson:                   1.898\n",
       "Prob(Omnibus):                  0.100   Jarque-Bera (JB):                4.529\n",
       "Skew:                           0.508   Prob(JB):                        0.104\n",
       "Kurtosis:                       2.895   Cond. No.                     2.73e+03\n",
       "==============================================================================\n",
       "\n",
       "Warnings:\n",
       "[1] Standard Errors assume that the covariance matrix of the errors is correctly specified.\n",
       "[2] The condition number is large, 2.73e+03. This might indicate that there are\n",
       "strong multicollinearity or other numerical problems.\n",
       "\"\"\""
      ]
     },
     "execution_count": 15,
     "metadata": {},
     "output_type": "execute_result"
    },
    {
     "data": {
      "image/png": "[encoded data removed]",
      "text/plain": [
       "<Figure size 432x288 with 1 Axes>"
      ]
     },
     "metadata": {
      "needs_background": "light"
     },
     "output_type": "display_data"
    }
   ],
   "source": [
    "features = list(train.columns.values)\n",
    "features.remove('Pts')\n",
    "best_var = \"\"\n",
    "best_rsquared_adj = 0.001\n",
    "rsquared_adj_array = {}\n",
    "simple_features = ['FirstDownsPass']\n",
    "\n",
    "for feature in features:\n",
    "  formula_string = 'Pts~' + feature\n",
    "  fss_model1 = smf.ols(formula = formula_string, data=train).fit()\n",
    "  rsquared_adj_array[feature] = fss_model1.rsquared_adj\n",
    "  if fss_model1.rsquared_adj > best_rsquared_adj:\n",
    "    best_rsquared_adj = fss_model1.rsquared_adj\n",
    "    best_var = feature\n",
    "\n",
    "print('best feature: ' + best_var)\n",
    "previous_k = ' + ' + best_var\n",
    "# features.remove(best_var)\n",
    "formula_string = 'Pts~' + best_var\n",
    "fss_model1 = smf.ols(formula = formula_string, data=train).fit()\n",
    "print(\"R-squared for model with 1 feature1: \", fss_model1.rsquared_adj)\n",
    "# graph to display\n",
    "plt.plot(data.FirstDownsPass, data.Pts, 'ro')\n",
    "prediction = fss_model1.predict(test)\n",
    "plt.plot(test.FirstDownsPass, prediction, 'bo')\n",
    "print('formula_string= ', formula_string)\n",
    "fss_model1.summary()"
   ]
  },
  {
   "cell_type": "code",
   "execution_count": 10,
   "metadata": {
    "colab": {
     "base_uri": "https://localhost:8080/",
     "height": 52
    },
    "colab_type": "code",
    "id": "32zhkEDNeul1",
    "outputId": "74f63844-3dbd-40ef-a7e9-33b4520493b7"
   },
   "outputs": [
    {
     "name": "stdout",
     "output_type": "stream",
     "text": [
      "standard = 61.96246412907371\n",
      "mean = 403.9107692307694\n"
     ]
    }
   ],
   "source": [
    "mean = data.TotalOffenseYds.mean()\n",
    "std = np.std(data.TotalOffenseYds)\n",
    "print('standard = ' + str(std))\n",
    "print('mean = ' + str(mean))"
   ]
  },
  {
   "cell_type": "code",
   "execution_count": 11,
   "metadata": {
    "colab": {
     "base_uri": "https://localhost:8080/",
     "height": 381
    },
    "colab_type": "code",
    "id": "yvMKa02JEFpH",
    "outputId": "d15ace03-3166-4d09-e66a-ce1f2cdadba2"
   },
   "outputs": [
    {
     "data": {
      "text/plain": [
       "{'PassingCmp': 0.04692168262401453,\n",
       " 'PassingAtt': -0.009783057327157119,\n",
       " 'PassingPct': 0.3278777997275333,\n",
       " 'PassingYds': 0.27936306210005557,\n",
       " 'PassingTD': 0.5571584600819646,\n",
       " 'RushingAtt': 0.08149213608993977,\n",
       " 'RushingYds': 0.30172753899842975,\n",
       " 'RushingAvg': 0.411343600698294,\n",
       " 'RushingTD': 0.520141121886681,\n",
       " 'TotalOffensePlays': 0.1493027474997155,\n",
       " 'TotalOffenseYds': 0.83943871016178,\n",
       " 'TotalOffenseAvg': 0.7685637040478088,\n",
       " 'FirstDownsPass': 0.23004267839198678,\n",
       " 'FirstDownsRush': 0.2953895172170623,\n",
       " 'FirstDownsPen': 0.007847206981328125,\n",
       " 'FirstDownsTot': 0.7401284589168121,\n",
       " 'PenaltiesNo': -0.0018688681312379885,\n",
       " 'PenaltiesYds': 0.025752094153242422,\n",
       " 'TurnoversFum': -0.009797978290504439,\n",
       " 'TurnoversInt': 0.19437345490148894,\n",
       " 'TurnoversTot': 0.11530254025293529}"
      ]
     },
     "execution_count": 11,
     "metadata": {},
     "output_type": "execute_result"
    }
   ],
   "source": [
    "# for i in rsquared_adj_array:\n",
    "#   plt.plot(rsquared_adj_array[i], 'ro', [i])\n",
    "rsquared_adj_array"
   ]
  },
  {
   "cell_type": "markdown",
   "metadata": {
    "colab_type": "text",
    "id": "Q_InNP9VgOk_"
   },
   "source": [
    "\n",
    "\n",
    "# <h1>Can you simply use correlation for subset selection?</h1>\n"
   ]
  },
  {
   "cell_type": "code",
   "execution_count": 12,
   "metadata": {
    "colab": {
     "base_uri": "https://localhost:8080/",
     "height": 52
    },
    "colab_type": "code",
    "id": "sDOTSDMIW-xa",
    "outputId": "c3d2bb83-6b74-41d0-8a56-6d92d87092e3"
   },
   "outputs": [
    {
     "name": "stdout",
     "output_type": "stream",
     "text": [
      "[[1.        0.9026205]\n",
      " [0.9026205 1.       ]]\n"
     ]
    }
   ],
   "source": [
    "print(np.corrcoef(copy.Pts, copy.TotalOffenseYds))"
   ]
  },
  {
   "cell_type": "code",
   "execution_count": 13,
   "metadata": {
    "colab": {
     "base_uri": "https://localhost:8080/",
     "height": 364
    },
    "colab_type": "code",
    "id": "eW5_GhZVgei0",
    "outputId": "d12becf3-56b7-4272-ef15-0dae9f75e6a4"
   },
   "outputs": [
    {
     "data": {
      "text/plain": [
       "{'PassingCmp': 0.24864950352998286,\n",
       " 'PassingAtt': 0.04586413769706773,\n",
       " 'PassingPct': 0.5711341078006945,\n",
       " 'PassingYds': 0.5140254434828901,\n",
       " 'PassingTD': 0.731306596508961,\n",
       " 'RushingAtt': 0.20132432024785424,\n",
       " 'RushingYds': 0.4957452752873938,\n",
       " 'RushingAvg': 0.6425676492173229,\n",
       " 'RushingTD': 0.6744194524254494,\n",
       " 'TotalOffensePlays': 0.3509430601517512,\n",
       " 'TotalOffenseYds': 0.9026205042187456,\n",
       " 'TotalOffenseAvg': 0.8815761673556695,\n",
       " 'FirstDownsPass': 0.4692660330314996,\n",
       " 'FirstDownsRush': 0.4687011313042761,\n",
       " 'FirstDownsPen': 0.06053345510751851,\n",
       " 'FirstDownsTot': 0.8432682810548222,\n",
       " 'PenaltiesNo': 0.03416376995366363,\n",
       " 'PenaltiesYds': 0.11740313201470895,\n",
       " 'TurnoversFum': -0.02324965127236634,\n",
       " 'TurnoversInt': -0.4285287694286239,\n",
       " 'TurnoversTot': -0.3495236471469557}"
      ]
     },
     "execution_count": 13,
     "metadata": {},
     "output_type": "execute_result"
    }
   ],
   "source": [
    "coef_dict = {}\n",
    "for i in features:\n",
    "  coef_dict[i] = np.corrcoef(copy.Pts, copy[i])[1][0]\n",
    "coef_dict"
   ]
  },
  {
   "cell_type": "markdown",
   "metadata": {
    "colab_type": "text",
    "id": "cK8nWrqWX2-J"
   },
   "source": [
    "It appears that the highest feature does also have the highest correlation. Will that continue with two features?"
   ]
  },
  {
   "cell_type": "markdown",
   "metadata": {
    "colab_type": "text",
    "id": "hTwLEopxeseE"
   },
   "source": [
    "# Kris: Continuing Forward Subset Selection 2 Features "
   ]
  },
  {
   "cell_type": "code",
   "execution_count": 14,
   "metadata": {
    "colab": {
     "base_uri": "https://localhost:8080/",
     "height": 35
    },
    "colab_type": "code",
    "id": "p-vHYgevdNCH",
    "outputId": "c2327e8c-6ad5-4117-95fb-63a33516bf7f"
   },
   "outputs": [
    {
     "data": {
      "text/plain": [
       "' + TotalOffenseYds * TotalOffenseYds'"
      ]
     },
     "execution_count": 14,
     "metadata": {},
     "output_type": "execute_result"
    }
   ],
   "source": [
    "previous_k"
   ]
  },
  {
   "cell_type": "code",
   "execution_count": 25,
   "metadata": {
    "colab": {},
    "colab_type": "code",
    "id": "hbaBOfHmjCUs"
   },
   "outputs": [
    {
     "name": "stdout",
     "output_type": "stream",
     "text": [
      "The best paired feature for TotalOffenseYds is TurnoversTot.\n"
     ]
    }
   ],
   "source": [
    "best_feature = best_var\n",
    "best_rsquared_adj = 0.001\n",
    "for feature in features:\n",
    "    if feature != best_feature:\n",
    "        formula_string = 'Pts~' + best_feature + ' + ' + feature\n",
    "        fss_model2 = smf.ols(formula = formula_string, data=train).fit()\n",
    "        rsquared_adj_array[i] = fss_model2.rsquared_adj\n",
    "        if fss_model2.rsquared_adj > best_rsquared_adj:\n",
    "            best_rsquared_adj = fss_model2.rsquared_adj\n",
    "            best_paired_feature = i\n",
    "\n",
    "print('The best paired feature for ' + best_feature + ' is ' + best_paired_feature + '.')\n",
    "# rsquared_adj_array = {}\n",
    "# for i in features:\n",
    "#   formula_string = 'Pts~' + i + previous_k\n",
    "#   fss_model2 = smf.ols(formula = formula_string, data=train).fit()\n",
    "#   rsquared_adj_array[i] = fss_model2.rsquared_adj\n",
    "#   if fss_model2.rsquared_adj > best_rsquared_adj:\n",
    "#     best_rsquared_adj = fss_model2.rsquared_adj\n",
    "#     best_var = i\n",
    "\n",
    "# print(best_var)\n",
    "# previous_k = ' + ' + best_var\n",
    "# features.remove(best_var)\n",
    "# formula_string = 'Pts~' + best_var\n",
    "# fss_model2 = smf.ols(formula = formula_string, data=train).fit()\n",
    "# print(\"R-squared for model with 2 features: \", fss_model2.rsquared_adj)\n",
    "# plt.plot(data.TotalOffenseYds, data.Pts, 'ro')\n",
    "# prediction = fss_model2.predict(test)\n",
    "# plt.plot(prediction, 'bo')\n",
    "# fss_model2.summary()"
   ]
  },
  {
   "cell_type": "markdown",
   "metadata": {
    "colab_type": "text",
    "id": "q1pBbtpJ7ptq"
   },
   "source": [
    "#Greg: Best two features\n",
    "-Greg, try using %%time to keep track of how long it takes. All you have to do is have %%time at the top of the cell and when it is run it will display the elapsed time. "
   ]
  },
  {
   "cell_type": "code",
   "execution_count": 0,
   "metadata": {
    "colab": {},
    "colab_type": "code",
    "id": "y042QlZjfdHe"
   },
   "outputs": [],
   "source": [
    "%%time"
   ]
  }
 ],
 "metadata": {
  "colab": {
   "name": "Offensive Regression.ipynb",
   "provenance": [],
   "toc_visible": true
  },
  "kernelspec": {
   "display_name": "Python 3",
   "language": "python",
   "name": "python3"
  },
  "language_info": {
   "codemirror_mode": {
    "name": "ipython",
    "version": 3
   },
   "file_extension": ".py",
   "mimetype": "text/x-python",
   "name": "python",
   "nbconvert_exporter": "python",
   "pygments_lexer": "ipython3",
   "version": "3.7.4"
  }
 },
 "nbformat": 4,
 "nbformat_minor": 1
}
