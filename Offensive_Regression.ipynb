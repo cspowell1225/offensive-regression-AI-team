{
  "nbformat": 4,
  "nbformat_minor": 0,
  "metadata": {
    "colab": {
      "name": "Offensive Regression.ipynb",
      "provenance": [],
      "toc_visible": true
    },
    "kernelspec": {
      "name": "python3",
      "display_name": "Python 3"
    }
  },
  "cells": [
    {
      "cell_type": "markdown",
      "metadata": {
        "id": "_pkz0heufohF",
        "colab_type": "text"
      },
      "source": [
        "# Import and Data Retrieval"
      ]
    },
    {
      "cell_type": "code",
      "metadata": {
        "id": "2apqh4t79Bwy",
        "colab_type": "code",
        "outputId": "52f04854-a442-4d67-d883-6e450d9369aa",
        "colab": {
          "base_uri": "https://localhost:8080/",
          "height": 50
        }
      },
      "source": [
        "%%time\n",
        "from sklearn.model_selection import train_test_split\n",
        "import pandas as pd\n",
        "import matplotlib\n",
        "import numpy as np\n",
        "import seaborn as sns\n",
        "import statsmodels.formula.api as smf\n",
        "import statsmodels.api as sm\n",
        "import matplotlib.pyplot as plt\n"
      ],
      "execution_count": 0,
      "outputs": [
        {
          "output_type": "stream",
          "text": [
            "CPU times: user 660 ms, sys: 329 ms, total: 989 ms\n",
            "Wall time: 1.43 s\n"
          ],
          "name": "stdout"
        }
      ]
    },
    {
      "cell_type": "code",
      "metadata": {
        "id": "G7XYO2qY9LL5",
        "colab_type": "code",
        "colab": {}
      },
      "source": [
        "#read data in from CSV to pandas dataframe\n",
        "data = pd.read_csv('https://raw.githubusercontent.com/cspowell1225/dataExplorationAug2019/master/College%20Football%20Offensive%20Stats%20-%20Data.csv?token=AIO5NI5AIPNGQMIGRUPDMR2533SVA')"
      ],
      "execution_count": 0,
      "outputs": []
    },
    {
      "cell_type": "code",
      "metadata": {
        "id": "CnMSVvK_9VNG",
        "colab_type": "code",
        "outputId": "e9cd2fbc-0685-48ee-96e8-5e4bb4dd5a21",
        "colab": {
          "base_uri": "https://localhost:8080/",
          "height": 114
        }
      },
      "source": [
        "# Check the first row in the dataframe is as expected\n",
        "data.head(1)"
      ],
      "execution_count": 0,
      "outputs": [
        {
          "output_type": "execute_result",
          "data": {
            "text/html": [
              "<div>\n",
              "<style scoped>\n",
              "    .dataframe tbody tr th:only-of-type {\n",
              "        vertical-align: middle;\n",
              "    }\n",
              "\n",
              "    .dataframe tbody tr th {\n",
              "        vertical-align: top;\n",
              "    }\n",
              "\n",
              "    .dataframe thead th {\n",
              "        text-align: right;\n",
              "    }\n",
              "</style>\n",
              "<table border=\"1\" class=\"dataframe\">\n",
              "  <thead>\n",
              "    <tr style=\"text-align: right;\">\n",
              "      <th></th>\n",
              "      <th>Rk</th>\n",
              "      <th>School</th>\n",
              "      <th>G</th>\n",
              "      <th>Pts</th>\n",
              "      <th>PassingCmp</th>\n",
              "      <th>PassingAtt</th>\n",
              "      <th>PassingPct</th>\n",
              "      <th>PassingYds</th>\n",
              "      <th>PassingTD</th>\n",
              "      <th>RushingAtt</th>\n",
              "      <th>RushingYds</th>\n",
              "      <th>RushingAvg</th>\n",
              "      <th>RushingTD</th>\n",
              "      <th>TotalOffensePlays</th>\n",
              "      <th>TotalOffenseYds</th>\n",
              "      <th>TotalOffenseAvg</th>\n",
              "      <th>FirstDownsPass</th>\n",
              "      <th>FirstDownsRush</th>\n",
              "      <th>FirstDownsPen</th>\n",
              "      <th>FirstDownsTot</th>\n",
              "      <th>PenaltiesNo</th>\n",
              "      <th>PenaltiesYds</th>\n",
              "      <th>TurnoversFum</th>\n",
              "      <th>TurnoversInt</th>\n",
              "      <th>TurnoversTot</th>\n",
              "    </tr>\n",
              "  </thead>\n",
              "  <tbody>\n",
              "    <tr>\n",
              "      <th>0</th>\n",
              "      <td>1</td>\n",
              "      <td>Ohio State</td>\n",
              "      <td>11</td>\n",
              "      <td>49.4</td>\n",
              "      <td>18.7</td>\n",
              "      <td>27.3</td>\n",
              "      <td>68.7</td>\n",
              "      <td>248.3</td>\n",
              "      <td>3.6</td>\n",
              "      <td>47.7</td>\n",
              "      <td>282.7</td>\n",
              "      <td>5.9</td>\n",
              "      <td>3.0</td>\n",
              "      <td>75.0</td>\n",
              "      <td>531.0</td>\n",
              "      <td>7.1</td>\n",
              "      <td>11.6</td>\n",
              "      <td>14.6</td>\n",
              "      <td>2.2</td>\n",
              "      <td>28.5</td>\n",
              "      <td>5.6</td>\n",
              "      <td>53.4</td>\n",
              "      <td>1.0</td>\n",
              "      <td>0.1</td>\n",
              "      <td>1.1</td>\n",
              "    </tr>\n",
              "  </tbody>\n",
              "</table>\n",
              "</div>"
            ],
            "text/plain": [
              "   Rk      School   G  ...  TurnoversFum  TurnoversInt  TurnoversTot\n",
              "0   1  Ohio State  11  ...           1.0           0.1           1.1\n",
              "\n",
              "[1 rows x 25 columns]"
            ]
          },
          "metadata": {
            "tags": []
          },
          "execution_count": 3
        }
      ]
    },
    {
      "cell_type": "markdown",
      "metadata": {
        "id": "F03zu4Lh-dvF",
        "colab_type": "text"
      },
      "source": [
        "#Single Feature Linear Model\n",
        "Goal: Predict points scored on other features\n"
      ]
    },
    {
      "cell_type": "code",
      "metadata": {
        "id": "9pSsYc89-sY7",
        "colab_type": "code",
        "colab": {}
      },
      "source": [
        "# sns.pairplot(data)"
      ],
      "execution_count": 0,
      "outputs": []
    },
    {
      "cell_type": "code",
      "metadata": {
        "id": "MMf_YbK1_wa6",
        "colab_type": "code",
        "colab": {}
      },
      "source": [
        "copy = data.copy()\n",
        "copy = copy.drop(['Rk', 'School', 'G'], axis=1)"
      ],
      "execution_count": 0,
      "outputs": []
    },
    {
      "cell_type": "code",
      "metadata": {
        "id": "S90wHt2fCDlJ",
        "colab_type": "code",
        "colab": {}
      },
      "source": [
        "\n",
        "train, test = train_test_split(copy, test_size=0.2)"
      ],
      "execution_count": 0,
      "outputs": []
    },
    {
      "cell_type": "code",
      "metadata": {
        "id": "cQ5RaNUCClf3",
        "colab_type": "code",
        "outputId": "d17513c8-f57f-4e08-d4c3-c5867cbf423f",
        "colab": {
          "base_uri": "https://localhost:8080/",
          "height": 775
        }
      },
      "source": [
        "features = list(train.columns.values)\n",
        "features.remove('Pts')\n",
        "best_var = \"\"\n",
        "best_rsquared_adj = 0.001\n",
        "rsquared_adj_array = {}\n",
        "simple_features = ['FirstDownsPass']\n",
        "\n",
        "for feature in features:\n",
        "  feature2 = feature\n",
        "  formula_string = 'Pts~' + feature + ' + ' + feature2\n",
        "  fss_model1 = smf.ols(formula = formula_string, data=train).fit()\n",
        "  rsquared_adj_array[feature] = fss_model1.rsquared_adj\n",
        "  if fss_model1.rsquared_adj > best_rsquared_adj:\n",
        "    best_rsquared_adj = fss_model1.rsquared_adj\n",
        "    best_var = feature + ' * ' + feature2\n",
        "\n",
        "print('best feature: ' + best_var)\n",
        "previous_k = ' + ' + best_var\n",
        "# features.remove(best_var)\n",
        "formula_string = 'Pts~' + best_var\n",
        "fss_model1 = smf.ols(formula = formula_string, data=train).fit()\n",
        "print(\"R-squared for model with 1 feature1: \", fss_model1.rsquared_adj)\n",
        "# graph to display\n",
        "plt.plot(data.FirstDownsPass, data.Pts, 'ro')\n",
        "prediction = fss_model1.predict(test)\n",
        "plt.plot(test.FirstDownsPass, prediction, 'bo')\n",
        "print('formula_string= ', formula_string)\n",
        "fss_model1.summary()"
      ],
      "execution_count": 0,
      "outputs": [
        {
          "output_type": "stream",
          "text": [
            "best feature: TotalOffenseYds * TotalOffenseYds\n",
            "R-squared for model with 1 feature1:  0.8401354031308674\n",
            "formula_string=  Pts~TotalOffenseYds * TotalOffenseYds\n"
          ],
          "name": "stdout"
        },
        {
          "output_type": "execute_result",
          "data": {
            "text/html": [
              "<table class=\"simpletable\">\n",
              "<caption>OLS Regression Results</caption>\n",
              "<tr>\n",
              "  <th>Dep. Variable:</th>           <td>Pts</td>       <th>  R-squared:         </th> <td>   0.842</td>\n",
              "</tr>\n",
              "<tr>\n",
              "  <th>Model:</th>                   <td>OLS</td>       <th>  Adj. R-squared:    </th> <td>   0.840</td>\n",
              "</tr>\n",
              "<tr>\n",
              "  <th>Method:</th>             <td>Least Squares</td>  <th>  F-statistic:       </th> <td>   542.3</td>\n",
              "</tr>\n",
              "<tr>\n",
              "  <th>Date:</th>             <td>Wed, 27 Nov 2019</td> <th>  Prob (F-statistic):</th> <td>1.28e-42</td>\n",
              "</tr>\n",
              "<tr>\n",
              "  <th>Time:</th>                 <td>21:03:29</td>     <th>  Log-Likelihood:    </th> <td> -262.83</td>\n",
              "</tr>\n",
              "<tr>\n",
              "  <th>No. Observations:</th>      <td>   104</td>      <th>  AIC:               </th> <td>   529.7</td>\n",
              "</tr>\n",
              "<tr>\n",
              "  <th>Df Residuals:</th>          <td>   102</td>      <th>  BIC:               </th> <td>   534.9</td>\n",
              "</tr>\n",
              "<tr>\n",
              "  <th>Df Model:</th>              <td>     1</td>      <th>                     </th>     <td> </td>   \n",
              "</tr>\n",
              "<tr>\n",
              "  <th>Covariance Type:</th>      <td>nonrobust</td>    <th>                     </th>     <td> </td>   \n",
              "</tr>\n",
              "</table>\n",
              "<table class=\"simpletable\">\n",
              "<tr>\n",
              "         <td></td>            <th>coef</th>     <th>std err</th>      <th>t</th>      <th>P>|t|</th>  <th>[0.025</th>    <th>0.975]</th>  \n",
              "</tr>\n",
              "<tr>\n",
              "  <th>Intercept</th>       <td>  -14.0732</td> <td>    1.871</td> <td>   -7.524</td> <td> 0.000</td> <td>  -17.783</td> <td>  -10.363</td>\n",
              "</tr>\n",
              "<tr>\n",
              "  <th>TotalOffenseYds</th> <td>    0.1070</td> <td>    0.005</td> <td>   23.287</td> <td> 0.000</td> <td>    0.098</td> <td>    0.116</td>\n",
              "</tr>\n",
              "</table>\n",
              "<table class=\"simpletable\">\n",
              "<tr>\n",
              "  <th>Omnibus:</th>       <td> 4.011</td> <th>  Durbin-Watson:     </th> <td>   2.682</td>\n",
              "</tr>\n",
              "<tr>\n",
              "  <th>Prob(Omnibus):</th> <td> 0.135</td> <th>  Jarque-Bera (JB):  </th> <td>   3.866</td>\n",
              "</tr>\n",
              "<tr>\n",
              "  <th>Skew:</th>          <td> 0.471</td> <th>  Prob(JB):          </th> <td>   0.145</td>\n",
              "</tr>\n",
              "<tr>\n",
              "  <th>Kurtosis:</th>      <td> 2.925</td> <th>  Cond. No.          </th> <td>2.54e+03</td>\n",
              "</tr>\n",
              "</table><br/><br/>Warnings:<br/>[1] Standard Errors assume that the covariance matrix of the errors is correctly specified.<br/>[2] The condition number is large, 2.54e+03. This might indicate that there are<br/>strong multicollinearity or other numerical problems."
            ],
            "text/plain": [
              "<class 'statsmodels.iolib.summary.Summary'>\n",
              "\"\"\"\n",
              "                            OLS Regression Results                            \n",
              "==============================================================================\n",
              "Dep. Variable:                    Pts   R-squared:                       0.842\n",
              "Model:                            OLS   Adj. R-squared:                  0.840\n",
              "Method:                 Least Squares   F-statistic:                     542.3\n",
              "Date:                Wed, 27 Nov 2019   Prob (F-statistic):           1.28e-42\n",
              "Time:                        21:03:29   Log-Likelihood:                -262.83\n",
              "No. Observations:                 104   AIC:                             529.7\n",
              "Df Residuals:                     102   BIC:                             534.9\n",
              "Df Model:                           1                                         \n",
              "Covariance Type:            nonrobust                                         \n",
              "===================================================================================\n",
              "                      coef    std err          t      P>|t|      [0.025      0.975]\n",
              "-----------------------------------------------------------------------------------\n",
              "Intercept         -14.0732      1.871     -7.524      0.000     -17.783     -10.363\n",
              "TotalOffenseYds     0.1070      0.005     23.287      0.000       0.098       0.116\n",
              "==============================================================================\n",
              "Omnibus:                        4.011   Durbin-Watson:                   2.682\n",
              "Prob(Omnibus):                  0.135   Jarque-Bera (JB):                3.866\n",
              "Skew:                           0.471   Prob(JB):                        0.145\n",
              "Kurtosis:                       2.925   Cond. No.                     2.54e+03\n",
              "==============================================================================\n",
              "\n",
              "Warnings:\n",
              "[1] Standard Errors assume that the covariance matrix of the errors is correctly specified.\n",
              "[2] The condition number is large, 2.54e+03. This might indicate that there are\n",
              "strong multicollinearity or other numerical problems.\n",
              "\"\"\""
            ]
          },
          "metadata": {
            "tags": []
          },
          "execution_count": 57
        },
        {
          "output_type": "display_data",
          "data": {
            "image/png": "[encoded data removed]",
            "text/plain": [
              "<Figure size 432x288 with 1 Axes>"
            ]
          },
          "metadata": {
            "tags": []
          }
        }
      ]
    },
    {
      "cell_type": "code",
      "metadata": {
        "id": "32zhkEDNeul1",
        "colab_type": "code",
        "outputId": "74f63844-3dbd-40ef-a7e9-33b4520493b7",
        "colab": {
          "base_uri": "https://localhost:8080/",
          "height": 52
        }
      },
      "source": [
        "mean = data.TotalOffenseYds.mean()\n",
        "std = np.std(data.TotalOffenseYds)\n",
        "print('standard = ' + str(std))\n",
        "print('mean = ' + str(mean))"
      ],
      "execution_count": 0,
      "outputs": [
        {
          "output_type": "stream",
          "text": [
            "standard = 61.96246412907371\n",
            "mean = 403.9107692307694\n"
          ],
          "name": "stdout"
        }
      ]
    },
    {
      "cell_type": "code",
      "metadata": {
        "id": "yvMKa02JEFpH",
        "colab_type": "code",
        "outputId": "d15ace03-3166-4d09-e66a-ce1f2cdadba2",
        "colab": {
          "base_uri": "https://localhost:8080/",
          "height": 381
        }
      },
      "source": [
        "# for i in rsquared_adj_array:\n",
        "#   plt.plot(rsquared_adj_array[i], 'ro', [i])\n",
        "rsquared_adj_array"
      ],
      "execution_count": 0,
      "outputs": [
        {
          "output_type": "execute_result",
          "data": {
            "text/plain": [
              "{'FirstDownsPass': 0.24176662843742458,\n",
              " 'FirstDownsPen': 0.003207850626385178,\n",
              " 'FirstDownsRush': 0.19848007434631765,\n",
              " 'FirstDownsTot': 0.7642224066620245,\n",
              " 'PassingAtt': -0.002239411949850112,\n",
              " 'PassingCmp': 0.06773210158682463,\n",
              " 'PassingPct': 0.327711999545385,\n",
              " 'PassingTD': 0.578409648934312,\n",
              " 'PassingYds': 0.29376514653636887,\n",
              " 'PenaltiesNo': -0.007141232095429162,\n",
              " 'PenaltiesYds': 0.00908420809813848,\n",
              " 'RushingAtt': 0.027282957737984614,\n",
              " 'RushingAvg': 0.4217481779107908,\n",
              " 'RushingTD': 0.4452925170709229,\n",
              " 'RushingYds': 0.22688040221251748,\n",
              " 'TotalOffenseAvg': 0.7977347817143113,\n",
              " 'TotalOffensePlays': 0.1699098769555747,\n",
              " 'TotalOffenseYds': 0.8401354031308674,\n",
              " 'TurnoversFum': -0.007494347755535591,\n",
              " 'TurnoversInt': 0.19187126171982427,\n",
              " 'TurnoversTot': 0.12313772144118595}"
            ]
          },
          "metadata": {
            "tags": []
          },
          "execution_count": 49
        }
      ]
    },
    {
      "cell_type": "markdown",
      "metadata": {
        "id": "Q_InNP9VgOk_",
        "colab_type": "text"
      },
      "source": [
        "\n",
        "\n",
        "# <h1>Can you simply use correlation for subset selection?</h1>\n"
      ]
    },
    {
      "cell_type": "code",
      "metadata": {
        "id": "sDOTSDMIW-xa",
        "colab_type": "code",
        "outputId": "c3d2bb83-6b74-41d0-8a56-6d92d87092e3",
        "colab": {
          "base_uri": "https://localhost:8080/",
          "height": 52
        }
      },
      "source": [
        "print(np.corrcoef(copy.Pts, copy.TotalOffenseYds))"
      ],
      "execution_count": 0,
      "outputs": [
        {
          "output_type": "stream",
          "text": [
            "[[1.        0.9026205]\n",
            " [0.9026205 1.       ]]\n"
          ],
          "name": "stdout"
        }
      ]
    },
    {
      "cell_type": "code",
      "metadata": {
        "id": "eW5_GhZVgei0",
        "colab_type": "code",
        "outputId": "d12becf3-56b7-4272-ef15-0dae9f75e6a4",
        "colab": {
          "base_uri": "https://localhost:8080/",
          "height": 364
        }
      },
      "source": [
        "coef_dict = {}\n",
        "for i in features:\n",
        "  coef_dict[i] = np.corrcoef(copy.Pts, copy[i])[1][0]\n",
        "coef_dict"
      ],
      "execution_count": 0,
      "outputs": [
        {
          "output_type": "execute_result",
          "data": {
            "text/plain": [
              "{'FirstDownsPass': 0.4692660330314996,\n",
              " 'FirstDownsPen': 0.06053345510751851,\n",
              " 'FirstDownsRush': 0.4687011313042761,\n",
              " 'FirstDownsTot': 0.8432682810548222,\n",
              " 'PassingAtt': 0.04586413769706773,\n",
              " 'PassingCmp': 0.24864950352998286,\n",
              " 'PassingPct': 0.5711341078006945,\n",
              " 'PassingTD': 0.731306596508961,\n",
              " 'PassingYds': 0.5140254434828901,\n",
              " 'PenaltiesNo': 0.03416376995366363,\n",
              " 'PenaltiesYds': 0.11740313201470895,\n",
              " 'RushingAtt': 0.20132432024785424,\n",
              " 'RushingAvg': 0.6425676492173229,\n",
              " 'RushingTD': 0.6744194524254494,\n",
              " 'RushingYds': 0.4957452752873938,\n",
              " 'TotalOffenseAvg': 0.8815761673556695,\n",
              " 'TotalOffensePlays': 0.3509430601517512,\n",
              " 'TurnoversFum': -0.02324965127236634,\n",
              " 'TurnoversInt': -0.4285287694286239,\n",
              " 'TurnoversTot': -0.3495236471469557}"
            ]
          },
          "metadata": {
            "tags": []
          },
          "execution_count": 51
        }
      ]
    },
    {
      "cell_type": "markdown",
      "metadata": {
        "id": "cK8nWrqWX2-J",
        "colab_type": "text"
      },
      "source": [
        "It appears that the highest feature does also have the highest correlation. Will that continue with two features?"
      ]
    },
    {
      "cell_type": "markdown",
      "metadata": {
        "id": "hTwLEopxeseE",
        "colab_type": "text"
      },
      "source": [
        "# Kris: Continuing Forward Subset Selection 2 Features "
      ]
    },
    {
      "cell_type": "code",
      "metadata": {
        "id": "p-vHYgevdNCH",
        "colab_type": "code",
        "outputId": "c2327e8c-6ad5-4117-95fb-63a33516bf7f",
        "colab": {
          "base_uri": "https://localhost:8080/",
          "height": 35
        }
      },
      "source": [
        "previous_k"
      ],
      "execution_count": 0,
      "outputs": [
        {
          "output_type": "execute_result",
          "data": {
            "text/plain": [
              "' + TotalOffenseYds'"
            ]
          },
          "metadata": {
            "tags": []
          },
          "execution_count": 52
        }
      ]
    },
    {
      "cell_type": "code",
      "metadata": {
        "id": "hbaBOfHmjCUs",
        "colab_type": "code",
        "colab": {}
      },
      "source": [
        "\n",
        "best_rsquared_adj = 0.001\n",
        "for feature in features:\n",
        "    formula_string = 'Pts~' + feature + previous_k\n",
        "\n",
        "# rsquared_adj_array = {}\n",
        "# for i in features:\n",
        "#   formula_string = 'Pts~' + i + previous_k\n",
        "#   fss_model2 = smf.ols(formula = formula_string, data=train).fit()\n",
        "#   rsquared_adj_array[i] = fss_model2.rsquared_adj\n",
        "#   if fss_model2.rsquared_adj > best_rsquared_adj:\n",
        "#     best_rsquared_adj = fss_model2.rsquared_adj\n",
        "#     best_var = i\n",
        "\n",
        "# print(best_var)\n",
        "# previous_k = ' + ' + best_var\n",
        "# features.remove(best_var)\n",
        "# formula_string = 'Pts~' + best_var\n",
        "# fss_model2 = smf.ols(formula = formula_string, data=train).fit()\n",
        "# print(\"R-squared for model with 2 features: \", fss_model2.rsquared_adj)\n",
        "# plt.plot(data.TotalOffenseYds, data.Pts, 'ro')\n",
        "# prediction = fss_model2.predict(test)\n",
        "# plt.plot(prediction, 'bo')\n",
        "# fss_model2.summary()"
      ],
      "execution_count": 0,
      "outputs": []
    },
    {
      "cell_type": "markdown",
      "metadata": {
        "id": "q1pBbtpJ7ptq",
        "colab_type": "text"
      },
      "source": [
        "#Greg: Best two features\n",
        "-Greg, try using %%time to keep track of how long it takes. All you have to do is have %%time at the top of the cell and when it is run it will display the elapsed time. "
      ]
    },
    {
      "cell_type": "code",
      "metadata": {
        "id": "y042QlZjfdHe",
        "colab_type": "code",
        "colab": {}
      },
      "source": [
        "%%time"
      ],
      "execution_count": 0,
      "outputs": []
    }
  ]
}